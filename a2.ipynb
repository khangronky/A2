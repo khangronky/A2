{
 "cells": [
  {
   "cell_type": "code",
   "execution_count": null,
   "id": "18b045d3",
   "metadata": {},
   "outputs": [],
   "source": [
    "import pandas as pd\n",
    "import numpy as np\n",
    "import matplotlib.pyplot as plt\n",
    "import seaborn as sns\n",
    "from sklearn.pipeline import Pipeline, FeatureUnion\n",
    "from sklearn.base import BaseEstimator, TransformerMixin\n",
    "from sklearn.compose import ColumnTransformer\n",
    "from sklearn.preprocessing import OrdinalEncoder, StandardScaler, OneHotEncoder, PolynomialFeatures\n",
    "\n",
    "from scipy.stats import zscore\n",
    "import joblib"
   ]
  },
  {
   "cell_type": "code",
   "execution_count": null,
   "id": "3a64c1bc",
   "metadata": {},
   "outputs": [],
   "source": [
    "raw_data = pd.read_csv(\"datasets/FOAI-assignment2-1.csv\")"
   ]
  },
  {
   "cell_type": "code",
   "execution_count": null,
   "id": "16321b1e",
   "metadata": {},
   "outputs": [],
   "source": [
    "print(\"\\n____________ Dataset info ____________\")\n",
    "print(raw_data.info())\n",
    "print(\"\\n____________ Some first data examples ____________\")\n",
    "print(raw_data.head())\n",
    "print(\"\\n____________ Statistics of numeric features ____________\")\n",
    "num_data = raw_data.select_dtypes(include=[\"float64\"])\n",
    "print(num_data.describe())\n",
    "print(\"\\n____________ Statistics of categorical features ____________\")\n",
    "cat_data = raw_data.select_dtypes(include=[\"int64\", \"object\"]).astype(\"category\")\n",
    "print(cat_data.describe())"
   ]
  },
  {
   "cell_type": "code",
   "execution_count": null,
   "id": "d6784236",
   "metadata": {},
   "outputs": [],
   "source": [
    "raw_data.plot(kind=\"scatter\", x=\"experience_level\", y=\"salary_in_usd\", alpha=0.2)\n",
    "plt.savefig(\"figures/scatter_1_feat.png\", format=\"png\", dpi=300)\n",
    "plt.show()"
   ]
  },
  {
   "cell_type": "code",
   "execution_count": null,
   "id": "0b5b44ff",
   "metadata": {},
   "outputs": [],
   "source": [
    "raw_data.plot(kind=\"scatter\", x=\"employment_type\", y=\"salary_in_usd\", alpha=0.2)\n",
    "plt.savefig('figures/scatter_2_feat.png', format='png', dpi=300)\n",
    "plt.show()"
   ]
  },
  {
   "cell_type": "code",
   "execution_count": null,
   "id": "2e71f234",
   "metadata": {},
   "outputs": [],
   "source": [
    "from pandas.plotting import scatter_matrix\n",
    "\n",
    "scatter_matrix(raw_data, figsize=(12, 8))\n",
    "plt.savefig(\"figures/scatter_mat_all_feat.png\", format=\"png\", dpi=300)\n",
    "plt.show()"
   ]
  },
  {
   "cell_type": "code",
   "execution_count": null,
   "id": "eabe17fa",
   "metadata": {},
   "outputs": [],
   "source": [
    "from pandas.plotting import scatter_matrix\n",
    "\n",
    "features_to_plot = [\"salary_in_usd\"]\n",
    "scatter_matrix(raw_data[features_to_plot], figsize=(12, 8))\n",
    "plt.show()"
   ]
  },
  {
   "cell_type": "code",
   "execution_count": null,
   "id": "cc6ecaf2",
   "metadata": {},
   "outputs": [],
   "source": [
    "raw_data.hist(figsize=(10, 5))\n",
    "plt.rcParams[\"xtick.labelsize\"] = 10\n",
    "plt.rcParams[\"ytick.labelsize\"] = 10\n",
    "plt.tight_layout()\n",
    "plt.savefig(\"figures/hist_raw_data.png\", format=\"png\", dpi=300)\n",
    "plt.show()"
   ]
  },
  {
   "cell_type": "code",
   "execution_count": null,
   "id": "e6f58eb1",
   "metadata": {},
   "outputs": [],
   "source": [
    "plt.figure(figsize=(10, 8))\n",
    "sns.heatmap(\n",
    "    raw_data.corr(numeric_only=True),\n",
    "    annot=True,\n",
    "    cmap=\"coolwarm\",\n",
    "    center=0,\n",
    "    square=True,\n",
    "    fmt=\".2f\",\n",
    ")\n",
    "plt.title(\"Correlation Matrix of Numerical Variables\")\n",
    "plt.tight_layout()\n",
    "plt.show()"
   ]
  },
  {
   "cell_type": "code",
   "execution_count": null,
   "id": "3a143e0e",
   "metadata": {},
   "outputs": [],
   "source": [
    "avg_salaries_by_location = raw_data.groupby(\"company_location\")[\"salary_in_usd\"].mean().sort_values(ascending=False)\n",
    "\n",
    "plt.figure(figsize=(10, 6))\n",
    "plt.bar(avg_salaries_by_location.index, avg_salaries_by_location.values)\n",
    "plt.xlabel(\"Company Location\")\n",
    "plt.ylabel(\"Average Salary in USD\")\n",
    "plt.title(\"Average Salary by Company Location\")\n",
    "plt.xticks(rotation=45)\n",
    "plt.tight_layout()\n",
    "plt.show()"
   ]
  },
  {
   "cell_type": "code",
   "execution_count": null,
   "id": "3dcd732d",
   "metadata": {},
   "outputs": [],
   "source": [
    "avg_salaries_by_size = raw_data.groupby(\"company_size\")[\"salary_in_usd\"].mean().sort_values(ascending=False)\n",
    "\n",
    "plt.figure(figsize=(10, 6))\n",
    "plt.bar(avg_salaries_by_size.index, avg_salaries_by_size.values)\n",
    "plt.xlabel(\"Company Size\")\n",
    "plt.ylabel(\"Average Salary in USD\")\n",
    "plt.title(\"Average Salary by Company Size\")\n",
    "plt.xticks(rotation=45)\n",
    "plt.tight_layout()\n",
    "plt.show()"
   ]
  },
  {
   "cell_type": "code",
   "execution_count": null,
   "id": "f3e1e9a0",
   "metadata": {},
   "outputs": [],
   "source": [
    "raw_data.drop(\n",
    "    columns=[\"salary\", \"salary_currency\", \"job_title\", \"employee_residence\"], inplace=True\n",
    ")\n",
    "raw_data.dropna(inplace=True)\n",
    "raw_data.drop_duplicates(inplace=True)\n",
    "\n",
    "z_scores = np.abs(zscore(raw_data[\"salary_in_usd\"]))\n",
    "raw_data = raw_data[z_scores < 3]\n",
    "\n",
    "raw_data.info()"
   ]
  },
  {
   "cell_type": "code",
   "execution_count": null,
   "id": "156e1ed3",
   "metadata": {},
   "outputs": [],
   "source": [
    "from sklearn.model_selection import train_test_split\n",
    "\n",
    "X = raw_data.drop(\"salary_in_usd\", axis=1)\n",
    "y = raw_data[\"salary_in_usd\"]\n",
    "\n",
    "X_train, X_test, y_train, y_test = train_test_split(X, y, test_size=0.2, random_state=42)\n",
    "\n",
    "print(\"\\n____________ Split training and test set ____________\")\n",
    "print(len(X_train), \"training +\", len(X_test), \"test examples\")"
   ]
  },
  {
   "cell_type": "code",
   "execution_count": null,
   "id": "e67e0de5",
   "metadata": {},
   "outputs": [],
   "source": [
    "class RareCategoryGrouper(BaseEstimator, TransformerMixin):\n",
    "    def __init__(self, threshold=10):\n",
    "        self.threshold = threshold\n",
    "        self.frequent_categories_ = None\n",
    "\n",
    "    def fit(self, X, y):\n",
    "        values, counts = np.unique(X, return_counts=True)\n",
    "        self.frequent_categories_ = values[counts >= self.threshold]\n",
    "        return self\n",
    "\n",
    "    def transform(self, X):\n",
    "        X = np.array(X)\n",
    "        return np.where(np.isin(X, self.frequent_categories_), X, \"Other\").reshape(-1, 1)"
   ]
  },
  {
   "cell_type": "code",
   "execution_count": null,
   "id": "ec224059",
   "metadata": {},
   "outputs": [],
   "source": [
    "cat_feat_names = [\n",
    "    \"work_year\",\n",
    "    \"remote_ratio\",\n",
    "    \"experience_level\",\n",
    "    \"employment_type\",\n",
    "    \"company_location\",\n",
    "    \"company_size\",\n",
    "]\n",
    "\n",
    "cat_pipeline = ColumnTransformer(\n",
    "    [\n",
    "        (\"ord_work_year\", OrdinalEncoder(categories=[[2020, 2021, 2022, 2023]]), [\"work_year\"]),\n",
    "        (\"ord_remote_ratio\", OrdinalEncoder(categories=[[0, 50, 100]]), [\"remote_ratio\"]),\n",
    "        (\"ord_experience_level\", OrdinalEncoder(categories=[[\"EN\", \"MI\", \"SE\", \"EX\"]], handle_unknown=\"use_encoded_value\", unknown_value=-1), [\"experience_level\"]),\n",
    "        (\"onehot_employment_type\", OneHotEncoder(categories=[[\"FT\", \"PT\", \"CT\", \"FL\"]], handle_unknown=\"ignore\", sparse_output=False), [\"employment_type\"]),\n",
    "        (\"rare_onehot_company_location\", \n",
    "            Pipeline([\n",
    "                (\"rare_grouper\", RareCategoryGrouper(threshold=5)),\n",
    "                (\"onehot\", OneHotEncoder(handle_unknown=\"ignore\", sparse_output=False))\n",
    "            ]), \n",
    "            [\"company_location\"]\n",
    "        ),\n",
    "        (\"ord_company_size\", OrdinalEncoder(categories=[[\"S\", \"M\", \"L\"]], handle_unknown=\"use_encoded_value\", unknown_value=-1), [\"company_size\"]),\n",
    "    ]\n",
    ")"
   ]
  },
  {
   "cell_type": "code",
   "execution_count": null,
   "id": "ae57f5db",
   "metadata": {},
   "outputs": [],
   "source": [
    "full_pipeline = FeatureUnion(\n",
    "    [\n",
    "        (\"cat_pipeline\", cat_pipeline),\n",
    "    ]\n",
    ")\n",
    "\n",
    "processed_X_train = full_pipeline.fit_transform(X_train, y_train)\n",
    "print(\"\\n____________ Processed feature values ____________\")\n",
    "print(processed_X_train)\n",
    "print(processed_X_train.shape)\n",
    "\n",
    "joblib.dump(full_pipeline, r\"models/full_pipeline.pkl\")"
   ]
  },
  {
   "cell_type": "code",
   "execution_count": null,
   "id": "a9a0947e",
   "metadata": {},
   "outputs": [],
   "source": [
    "from sklearn.metrics import mean_squared_error, mean_absolute_error\n",
    "\n",
    "def calculate_metrics(model, train_data, labels):\n",
    "    r2score = model.score(train_data, labels)\n",
    "    prediction = model.predict(train_data)\n",
    "\n",
    "    mae = mean_absolute_error(labels, prediction)\n",
    "    mse = mean_squared_error(labels, prediction)\n",
    "    rmse = np.sqrt(mse)\n",
    "    return r2score, mae, mse, rmse\n",
    "\n",
    "def store_model(model, model_name=\"\"):\n",
    "    if model_name == \"\":\n",
    "        model_name = type(model).__name__\n",
    "    joblib.dump(model, \"models/\" + model_name + \"_model.pkl\")\n",
    "\n",
    "\n",
    "def load_model(model_name):\n",
    "    model = joblib.load(\"models/\" + model_name + \"_model.pkl\")\n",
    "    return model"
   ]
  },
  {
   "cell_type": "code",
   "execution_count": null,
   "id": "029b75b1",
   "metadata": {},
   "outputs": [],
   "source": [
    "from sklearn.ensemble import RandomForestRegressor\n",
    "from sklearn.model_selection import RandomizedSearchCV\n",
    "\n",
    "param_grid = {\n",
    "    'n_estimators': [100, 200, 500],\n",
    "    'max_depth': [5, 10, 20],\n",
    "    'min_samples_split': [2, 5, 10],\n",
    "    'min_samples_leaf': [1, 2, 4],\n",
    "    'max_features': ['sqrt', 'log2', None]\n",
    "}\n",
    "\n",
    "model = RandomForestRegressor()\n",
    "random_search = RandomizedSearchCV(estimator=model, param_distributions=param_grid, n_iter=20, cv=5, scoring='neg_mean_squared_error', n_jobs=-1, random_state=42)\n",
    "random_search.fit(processed_X_train, y_train)\n",
    "\n",
    "print(\"Best parameters:\", random_search.best_params_)\n",
    "best_model = random_search.best_estimator_"
   ]
  },
  {
   "cell_type": "code",
   "execution_count": null,
   "id": "de5f3018",
   "metadata": {},
   "outputs": [],
   "source": [
    "print(\"\\n____________ RandomForestRegressor ____________\")\n",
    "r2score, mae, mse, rmse = calculate_metrics(best_model, processed_X_train, y_train)\n",
    "print(\"\\nR2 score (on training data, best=1):\", r2score)\n",
    "print(\"Mean Absolute Error: \", mae)\n",
    "print(\"Mean Squared Error: \", mse)\n",
    "print(\"Root Mean Square Error: \", rmse)\n",
    "store_model(best_model)\n",
    "\n",
    "print(\"Input data: \\n\", X_train.iloc[0:9])\n",
    "print(\"\\nPredictions: \", best_model.predict(processed_X_train[0:9]).round(decimals=1))\n",
    "print(\"Labels:      \", list(y_train[0:9]))"
   ]
  },
  {
   "cell_type": "code",
   "execution_count": null,
   "id": "16de6334",
   "metadata": {},
   "outputs": [],
   "source": [
    "from xgboost import XGBRegressor\n",
    "from sklearn.model_selection import RandomizedSearchCV\n",
    "\n",
    "param_grid = {\n",
    "    'n_estimators': [100, 200, 500],\n",
    "    'max_depth': [3, 6, 10],\n",
    "    'learning_rate': [0.01, 0.05, 0.1],\n",
    "    'subsample': [0.6, 0.8, 1.0],\n",
    "    'colsample_bytree': [0.6, 0.8, 1.0],\n",
    "    'gamma': [0, 0.1, 0.2],\n",
    "    'reg_alpha': [0, 0.01, 0.1],\n",
    "    'reg_lambda': [1, 1.5, 2.0]\n",
    "}\n",
    "\n",
    "model = XGBRegressor()\n",
    "random_search = RandomizedSearchCV(estimator=model, param_distributions=param_grid, n_iter=20, cv=5, scoring='neg_mean_squared_error', n_jobs=-1, random_state=42)\n",
    "random_search.fit(processed_X_train, y_train)\n",
    "\n",
    "print(\"Best parameters:\", random_search.best_params_)\n",
    "best_model = random_search.best_estimator_"
   ]
  },
  {
   "cell_type": "code",
   "execution_count": null,
   "id": "b68b35c9",
   "metadata": {},
   "outputs": [],
   "source": [
    "print(\"\\n____________ XGBRegressor ____________\")\n",
    "r2score, mae, mse, rmse = calculate_metrics(best_model, processed_X_train, y_train)\n",
    "print(\"\\nR2 score (on training data, best=1):\", r2score)\n",
    "print(\"Mean Absolute Error: \", mae)\n",
    "print(\"Mean Squared Error: \", mse)\n",
    "print(\"Root Mean Square Error: \", rmse)\n",
    "store_model(best_model)\n",
    "\n",
    "print(\"Input data: \\n\", X_train.iloc[0:9])\n",
    "print(\"\\nPredictions: \", best_model.predict(processed_X_train[0:9]).round(decimals=1))\n",
    "print(\"Labels:      \", list(y_train[0:9]))"
   ]
  },
  {
   "cell_type": "code",
   "execution_count": null,
   "id": "09d6257c",
   "metadata": {},
   "outputs": [],
   "source": [
    "from lightgbm import LGBMRegressor\n",
    "from sklearn.model_selection import RandomizedSearchCV\n",
    "\n",
    "param_grid_lgbm = {\n",
    "    'num_leaves': [30, 50, 70],\n",
    "    'max_depth': [5, 10, 20],\n",
    "    'learning_rate': [0.01, 0.05, 0.1, 0.2],\n",
    "    'n_estimators': [100, 200, 500],\n",
    "    'subsample': [0.6, 0.8, 1.0],\n",
    "    'colsample_bytree': [0.6, 0.8, 1.0]\n",
    "}\n",
    "\n",
    "model = LGBMRegressor()\n",
    "cat_X_train = X_train.select_dtypes(include=[\"object\"])\n",
    "cat_features = cat_X_train.columns.tolist()\n",
    "for col in cat_features:\n",
    "    cat_X_train[col] = cat_X_train[col].astype(\"category\")\n",
    "\n",
    "random_search_lgbm = RandomizedSearchCV(\n",
    "    estimator=model,\n",
    "    param_distributions=param_grid_lgbm,\n",
    "    n_iter=20,\n",
    "    scoring='neg_mean_squared_error',\n",
    "    cv=5,\n",
    "    verbose=1,\n",
    "    random_state=42,\n",
    "    n_jobs=-1\n",
    ")\n",
    "random_search_lgbm.fit(cat_X_train, y_train, categorical_feature=cat_features)\n",
    "\n",
    "print(\"Best parameters:\", random_search_lgbm.best_params_)\n",
    "best_model = random_search_lgbm.best_estimator_"
   ]
  },
  {
   "cell_type": "code",
   "execution_count": null,
   "id": "9197902f",
   "metadata": {},
   "outputs": [],
   "source": [
    "print(\"\\n____________ LGBMRegressor ____________\")\n",
    "r2score, mae, mse, rmse = calculate_metrics(best_model, cat_X_train, y_train)\n",
    "print(\"\\nR2 score (on training data, best=1):\", r2score)\n",
    "print(\"Mean Absolute Error: \", mae)\n",
    "print(\"Mean Squared Error: \", mse)\n",
    "print(\"Root Mean Square Error: \", rmse)\n",
    "store_model(best_model)\n",
    "\n",
    "print(\"Input data: \\n\", X_train.iloc[0:9])\n",
    "print(\"\\nPredictions: \", best_model.predict(cat_X_train[0:9]).round(decimals=1))\n",
    "print(\"Labels:      \", list(y_train[0:9]))"
   ]
  },
  {
   "cell_type": "code",
   "execution_count": null,
   "id": "2ab95574",
   "metadata": {},
   "outputs": [],
   "source": [
    "from catboost import CatBoostRegressor\n",
    "from sklearn.model_selection import RandomizedSearchCV\n",
    "\n",
    "param_grid_catboost = {\n",
    "    'depth': [4, 6, 8, 10],\n",
    "    'learning_rate': [0.01, 0.05, 0.1, 0.2],\n",
    "    'iterations': [100, 200, 500],\n",
    "    'l2_leaf_reg': [1, 3, 5, 7, 9],\n",
    "    'border_count': [32, 64, 128]\n",
    "}\n",
    "\n",
    "model = CatBoostRegressor(verbose=0)\n",
    "cat_X_train = X_train.select_dtypes(include=[\"object\"])\n",
    "cat_features = cat_X_train.columns.tolist()\n",
    "\n",
    "random_search_catboost = RandomizedSearchCV(\n",
    "    estimator=model,\n",
    "    param_distributions=param_grid_catboost,\n",
    "    n_iter=20,\n",
    "    scoring='neg_mean_squared_error',\n",
    "    cv=5,\n",
    "    verbose=1,\n",
    "    random_state=42,\n",
    "    n_jobs=-1\n",
    ")\n",
    "random_search_catboost.fit(X_train, y_train, cat_features=cat_features)\n",
    "\n",
    "print(\"Best parameters:\", random_search_catboost.best_params_)\n",
    "best_model = random_search_catboost.best_estimator_"
   ]
  },
  {
   "cell_type": "code",
   "execution_count": null,
   "id": "2c460b00",
   "metadata": {},
   "outputs": [],
   "source": [
    "print(\"\\n____________ CatBoostRegressor ____________\")\n",
    "r2score, mae, mse, rmse = calculate_metrics(best_model, X_train, y_train)\n",
    "print(\"\\nR2 score (on training data, best=1):\", r2score)\n",
    "print(\"Mean Absolute Error: \", mae)\n",
    "print(\"Mean Squared Error: \", mse)\n",
    "print(\"Root Mean Square Error: \", rmse)\n",
    "store_model(best_model)\n",
    "\n",
    "print(\"Input data: \\n\", X_train.iloc[0:9])\n",
    "print(\"\\nPredictions: \", best_model.predict(X_train[0:9]).round(decimals=1))\n",
    "print(\"Labels:      \", list(y_train[0:9]))"
   ]
  },
  {
   "cell_type": "code",
   "execution_count": null,
   "id": "a0766b4c",
   "metadata": {},
   "outputs": [],
   "source": [
    "full_pipeline = joblib.load(r\"models/full_pipeline.pkl\")\n",
    "processed_X_test = full_pipeline.transform(X_test)"
   ]
  },
  {
   "cell_type": "code",
   "execution_count": null,
   "id": "0f726891",
   "metadata": {},
   "outputs": [],
   "source": [
    "model = joblib.load(r\"models/RandomForestRegressor_model.pkl\")\n",
    "\n",
    "r2score, mae, mse, rmse = calculate_metrics(model, processed_X_test, y_test)\n",
    "print(\"\\nPerformance on test data:\")\n",
    "print(\"R2 score (on test data, best=1):\", r2score)\n",
    "print(\"Mean Absolute Error: \", mae)\n",
    "print(\"Mean Squared Error: \", mse)\n",
    "print(\"Root Mean Square Error: \", rmse)\n",
    "\n",
    "print(\"\\nTest data: \\n\", X_test.iloc[0:9])\n",
    "print(\"\\nPredictions: \", model.predict(processed_X_test[0:9]).round(decimals=1))\n",
    "print(\"Labels:      \", list(y_test[0:9]), \"\\n\")"
   ]
  },
  {
   "cell_type": "code",
   "execution_count": null,
   "id": "7cdf3ff7",
   "metadata": {},
   "outputs": [],
   "source": [
    "model = joblib.load(r\"models/XGBRegressor_model.pkl\")\n",
    "\n",
    "r2score, mae, mse, rmse = calculate_metrics(model, processed_X_test, y_test)\n",
    "print(\"\\nPerformance on test data:\")\n",
    "print(\"R2 score (on test data, best=1):\", r2score)\n",
    "print(\"Mean Absolute Error: \", mae)\n",
    "print(\"Mean Squared Error: \", mse)\n",
    "print(\"Root Mean Square Error: \", rmse)\n",
    "\n",
    "print(\"\\nTest data: \\n\", X_test.iloc[0:5])\n",
    "print(\"\\nPredictions: \", model.predict(processed_X_test[0:5]).round(decimals=1))\n",
    "print(\"Labels:      \", list(y_test[0:5]), \"\\n\")"
   ]
  },
  {
   "cell_type": "code",
   "execution_count": null,
   "id": "7c617844",
   "metadata": {},
   "outputs": [],
   "source": [
    "model = joblib.load(r\"models/LGBMRegressor_model.pkl\")\n",
    "\n",
    "cat_X_test = X_test.select_dtypes(include=[\"object\"])\n",
    "\n",
    "for col in cat_features:\n",
    "    cat_X_test[col] = cat_X_test[col].astype(\"category\")\n",
    "\n",
    "r2score, mae, mse, rmse = calculate_metrics(model, cat_X_test, y_test)\n",
    "print(\"\\nPerformance on test data:\")\n",
    "print(\"R2 score (on test data, best=1):\", r2score)\n",
    "print(\"Mean Absolute Error: \", mae)\n",
    "print(\"Mean Squared Error: \", mse)\n",
    "print(\"Root Mean Square Error: \", rmse)\n",
    "\n",
    "print(\"\\nTest data: \\n\", X_test.iloc[0:9])\n",
    "print(\"\\nPredictions: \", model.predict(cat_X_test[0:9]).round(decimals=1))\n",
    "print(\"Labels:      \", list(y_test[0:9]), \"\\n\")"
   ]
  },
  {
   "cell_type": "code",
   "execution_count": null,
   "id": "c57dfb82",
   "metadata": {},
   "outputs": [],
   "source": [
    "model = joblib.load(r\"models/CatBoostRegressor_model.pkl\")\n",
    "\n",
    "r2score, mae, mse, rmse = calculate_metrics(model, X_test, y_test)\n",
    "print(\"\\nPerformance on test data:\")\n",
    "print(\"R2 score (on test data, best=1):\", r2score)\n",
    "print(\"Mean Absolute Error: \", mae)\n",
    "print(\"Mean Squared Error: \", mse)\n",
    "print(\"Root Mean Square Error: \", rmse)\n",
    "\n",
    "print(\"\\nTest data: \\n\", X_test.iloc[0:9])\n",
    "print(\"\\nPredictions: \", model.predict(X_test[0:9]).round(decimals=1))\n",
    "print(\"Labels:      \", list(y_test[0:9]), \"\\n\")"
   ]
  }
 ],
 "metadata": {
  "kernelspec": {
   "display_name": "Python 3",
   "language": "python",
   "name": "python3"
  },
  "language_info": {
   "codemirror_mode": {
    "name": "ipython",
    "version": 3
   },
   "file_extension": ".py",
   "mimetype": "text/x-python",
   "name": "python",
   "nbconvert_exporter": "python",
   "pygments_lexer": "ipython3",
   "version": "3.12.11"
  }
 },
 "nbformat": 4,
 "nbformat_minor": 5
}
